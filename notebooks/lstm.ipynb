{
 "cells": [
  {
   "cell_type": "markdown",
   "metadata": {},
   "source": [
    "### LSTM-based Time-Series Model\n",
    "- Predict future sensor readings in patients with parkinsons disease"
   ]
  },
  {
   "cell_type": "code",
   "execution_count": 184,
   "metadata": {},
   "outputs": [],
   "source": [
    "import numpy as np\n",
    "import pandas as pd\n",
    "import tensorflow as tf\n",
    "from tensorflow.keras.models import Sequential\n",
    "from tensorflow.keras.layers import LSTM, Dense, Dropout, Bidirectional, BatchNormalization\n",
    "from sklearn.model_selection import train_test_split\n",
    "from sklearn.preprocessing import LabelEncoder, MinMaxScaler\n",
    "import matplotlib.pyplot as plt\n",
    "# warning ignore\n",
    "import warnings\n",
    "warnings.filterwarnings('ignore')"
   ]
  },
  {
   "cell_type": "markdown",
   "metadata": {},
   "source": [
    "##### Load dataset"
   ]
  },
  {
   "cell_type": "code",
   "execution_count": 185,
   "metadata": {},
   "outputs": [],
   "source": [
    "\n",
    "df = pd.read_csv(\"../processed-data/cleaned-parkinsons-data.csv\")\n"
   ]
  },
  {
   "cell_type": "markdown",
   "metadata": {},
   "source": [
    "#### Encode categorical variables"
   ]
  },
  {
   "cell_type": "code",
   "execution_count": 186,
   "metadata": {},
   "outputs": [],
   "source": [
    "\n",
    "label_encoders = {}\n",
    "for col in ['Task']:\n",
    "    label_encoders[col] = LabelEncoder()\n",
    "    df[col] = label_encoders[col].fit_transform(df[col])\n",
    "\n",
    "# Map DeviceLocation to numerical values\n",
    "df[\"Device_Location\"] = df[\"Device_Location\"].map({\"RightWrist\": 0, \"LeftWrist\": 1})\n"
   ]
  },
  {
   "cell_type": "markdown",
   "metadata": {},
   "source": [
    "#### Define Input and Target Features"
   ]
  },
  {
   "cell_type": "code",
   "execution_count": 187,
   "metadata": {},
   "outputs": [],
   "source": [
    "## get only parkinsons data\n",
    "df = df[df[\"Condition\"] == 1]\n",
    "# df.to_csv(\"../processed-data/parkinsons-data.csv\")\n",
    "# Define input features (past movement + metadata) and target (future movement)\n",
    "features = ['Accel_X', 'Accel_Y', 'Accel_Z', 'Gyro_X', 'Gyro_Y', 'Gyro_Z', 'Time', 'Condition']\n",
    "target = ['Accel_X', 'Accel_Y', 'Accel_Z', 'Gyro_X', 'Gyro_Y', 'Gyro_Z']  # Predict future movement\n"
   ]
  },
  {
   "cell_type": "markdown",
   "metadata": {},
   "source": [
    "#### Scale Features and Segment Data"
   ]
  },
  {
   "cell_type": "code",
   "execution_count": 188,
   "metadata": {},
   "outputs": [],
   "source": [
    "# Sort data by Patient ID and time\n",
    "df = df.sort_values(by=['Patient_id'])\n",
    "\n",
    "# initialize lists to store segmented data\n",
    "train_data_list = []\n",
    "test_data_list = []\n",
    "\n",
    "# Split and normalize per patient to prevent data leakage\n",
    "scaler = MinMaxScaler()\n",
    "\n",
    "for patient_id, patient_df in df.groupby('Patient_id'):\n",
    "    split_index = round(int(len(patient_df) * 0.8))  # 80% train, 20% test\n",
    "    \n",
    "    train_patient = patient_df.iloc[:split_index]\n",
    "    test_patient = patient_df.iloc[split_index:]\n",
    "\n",
    "    # Normalize per patient\n",
    "    train_patient[features] = scaler.fit_transform(train_patient[features])\n",
    "    test_patient[features] = scaler.transform(test_patient[features])\n",
    "\n",
    "    train_data_list.append(train_patient)\n",
    "    test_data_list.append(test_patient)\n",
    "\n",
    "# Combine segmented data\n",
    "train_data = pd.concat(train_data_list)\n",
    "test_data = pd.concat(test_data_list)"
   ]
  },
  {
   "cell_type": "markdown",
   "metadata": {},
   "source": [
    "#### Create Data Sequence"
   ]
  },
  {
   "cell_type": "code",
   "execution_count": 189,
   "metadata": {},
   "outputs": [],
   "source": [
    "\n",
    "\n",
    "# Function to create sequences for each patient's data\n",
    "sequence_length = 10\n",
    "def create_sequences(data, sequence_length=sequence_length):\n",
    "    sequences = []\n",
    "    labels = []\n",
    "    \n",
    "    for patient_id, patient_df in data.groupby('Patient_id'):\n",
    "        patient_data = patient_df.reset_index(drop=True)  # Reset index for sequential slicing\n",
    "        \n",
    "        for i in range(len(patient_data) - sequence_length):\n",
    "            seq = patient_data.iloc[i:i+sequence_length][features].values\n",
    "            label = patient_data.iloc[i+sequence_length][target].values  # Predict next step\n",
    "            sequences.append(seq)\n",
    "            labels.append(label)\n",
    "    \n",
    "    return np.array(sequences), np.array(labels)\n",
    "\n",
    "# Create sequences\n",
    "X_train, y_train = create_sequences(train_data, sequence_length=sequence_length)\n",
    "X_test, y_test = create_sequences(test_data, sequence_length=sequence_length)\n",
    "\n"
   ]
  },
  {
   "cell_type": "markdown",
   "metadata": {},
   "source": [
    "#### Define LSTM Model"
   ]
  },
  {
   "cell_type": "code",
   "execution_count": null,
   "metadata": {},
   "outputs": [],
   "source": [
    "# Define LSTM model\n",
    "\n",
    "model = Sequential([\n",
    "    Bidirectional(LSTM(64, return_sequences=True, input_shape=(sequence_length, len(features)))),\n",
    "    BatchNormalization(),\n",
    "    Dropout(0.5),\n",
    "\n",
    "    LSTM(32, return_sequences=True),\n",
    "    BatchNormalization(),\n",
    "    Dropout(0.5),\n",
    "\n",
    "    LSTM(16, return_sequences=False),\n",
    "    BatchNormalization(),\n",
    "    Dropout(0.5),\n",
    "\n",
    "    Dense(64, activation='relu'),\n",
    "    BatchNormalization(),\n",
    "    Dropout(0.5),\n",
    "\n",
    "    Dense(32, activation='relu'),\n",
    "    Dropout(0.5),\n",
    "\n",
    "    Dense(len(target), activation='linear')  # Predict movement values\n",
    "])"
   ]
  },
  {
   "cell_type": "code",
   "execution_count": 191,
   "metadata": {},
   "outputs": [
    {
     "name": "stdout",
     "output_type": "stream",
     "text": [
      "Epoch 1/30\n",
      "\u001b[1m5116/5116\u001b[0m \u001b[32m━━━━━━━━━━━━━━━━━━━━\u001b[0m\u001b[37m\u001b[0m \u001b[1m28s\u001b[0m 5ms/step - loss: 1.7374 - mae: 0.9331 - val_loss: 0.0908 - val_mae: 0.2534\n",
      "Epoch 2/30\n",
      "\u001b[1m5116/5116\u001b[0m \u001b[32m━━━━━━━━━━━━━━━━━━━━\u001b[0m\u001b[37m\u001b[0m \u001b[1m25s\u001b[0m 5ms/step - loss: 0.0738 - mae: 0.2134 - val_loss: 0.0338 - val_mae: 0.1394\n",
      "Epoch 3/30\n",
      "\u001b[1m5116/5116\u001b[0m \u001b[32m━━━━━━━━━━━━━━━━━━━━\u001b[0m\u001b[37m\u001b[0m \u001b[1m25s\u001b[0m 5ms/step - loss: 0.0373 - mae: 0.1510 - val_loss: 0.0250 - val_mae: 0.1160\n",
      "Epoch 4/30\n",
      "\u001b[1m5116/5116\u001b[0m \u001b[32m━━━━━━━━━━━━━━━━━━━━\u001b[0m\u001b[37m\u001b[0m \u001b[1m25s\u001b[0m 5ms/step - loss: 0.0326 - mae: 0.1397 - val_loss: 0.0218 - val_mae: 0.1060\n",
      "Epoch 5/30\n",
      "\u001b[1m5116/5116\u001b[0m \u001b[32m━━━━━━━━━━━━━━━━━━━━\u001b[0m\u001b[37m\u001b[0m \u001b[1m25s\u001b[0m 5ms/step - loss: 0.0309 - mae: 0.1355 - val_loss: 0.0202 - val_mae: 0.1014\n",
      "Epoch 6/30\n",
      "\u001b[1m5116/5116\u001b[0m \u001b[32m━━━━━━━━━━━━━━━━━━━━\u001b[0m\u001b[37m\u001b[0m \u001b[1m25s\u001b[0m 5ms/step - loss: 0.0299 - mae: 0.1328 - val_loss: 0.0188 - val_mae: 0.0968\n",
      "Epoch 7/30\n",
      "\u001b[1m5116/5116\u001b[0m \u001b[32m━━━━━━━━━━━━━━━━━━━━\u001b[0m\u001b[37m\u001b[0m \u001b[1m25s\u001b[0m 5ms/step - loss: 0.0289 - mae: 0.1301 - val_loss: 0.0174 - val_mae: 0.0923\n",
      "Epoch 8/30\n",
      "\u001b[1m5116/5116\u001b[0m \u001b[32m━━━━━━━━━━━━━━━━━━━━\u001b[0m\u001b[37m\u001b[0m \u001b[1m25s\u001b[0m 5ms/step - loss: 0.0285 - mae: 0.1291 - val_loss: 0.0170 - val_mae: 0.0913\n",
      "Epoch 9/30\n",
      "\u001b[1m5116/5116\u001b[0m \u001b[32m━━━━━━━━━━━━━━━━━━━━\u001b[0m\u001b[37m\u001b[0m \u001b[1m25s\u001b[0m 5ms/step - loss: 0.0279 - mae: 0.1276 - val_loss: 0.0169 - val_mae: 0.0914\n",
      "Epoch 10/30\n",
      "\u001b[1m5116/5116\u001b[0m \u001b[32m━━━━━━━━━━━━━━━━━━━━\u001b[0m\u001b[37m\u001b[0m \u001b[1m25s\u001b[0m 5ms/step - loss: 0.0277 - mae: 0.1269 - val_loss: 0.0165 - val_mae: 0.0904\n",
      "Epoch 11/30\n",
      "\u001b[1m5116/5116\u001b[0m \u001b[32m━━━━━━━━━━━━━━━━━━━━\u001b[0m\u001b[37m\u001b[0m \u001b[1m26s\u001b[0m 5ms/step - loss: 0.0273 - mae: 0.1260 - val_loss: 0.0159 - val_mae: 0.0876\n",
      "Epoch 12/30\n",
      "\u001b[1m5116/5116\u001b[0m \u001b[32m━━━━━━━━━━━━━━━━━━━━\u001b[0m\u001b[37m\u001b[0m \u001b[1m26s\u001b[0m 5ms/step - loss: 0.0271 - mae: 0.1255 - val_loss: 0.0160 - val_mae: 0.0879\n",
      "Epoch 13/30\n",
      "\u001b[1m5116/5116\u001b[0m \u001b[32m━━━━━━━━━━━━━━━━━━━━\u001b[0m\u001b[37m\u001b[0m \u001b[1m26s\u001b[0m 5ms/step - loss: 0.0268 - mae: 0.1246 - val_loss: 0.0158 - val_mae: 0.0879\n",
      "Epoch 14/30\n",
      "\u001b[1m5116/5116\u001b[0m \u001b[32m━━━━━━━━━━━━━━━━━━━━\u001b[0m\u001b[37m\u001b[0m \u001b[1m26s\u001b[0m 5ms/step - loss: 0.0270 - mae: 0.1249 - val_loss: 0.0161 - val_mae: 0.0882\n",
      "Epoch 15/30\n",
      "\u001b[1m5116/5116\u001b[0m \u001b[32m━━━━━━━━━━━━━━━━━━━━\u001b[0m\u001b[37m\u001b[0m \u001b[1m26s\u001b[0m 5ms/step - loss: 0.0266 - mae: 0.1239 - val_loss: 0.0158 - val_mae: 0.0872\n",
      "Epoch 16/30\n",
      "\u001b[1m5116/5116\u001b[0m \u001b[32m━━━━━━━━━━━━━━━━━━━━\u001b[0m\u001b[37m\u001b[0m \u001b[1m26s\u001b[0m 5ms/step - loss: 0.0266 - mae: 0.1239 - val_loss: 0.0159 - val_mae: 0.0874\n",
      "Epoch 17/30\n",
      "\u001b[1m5116/5116\u001b[0m \u001b[32m━━━━━━━━━━━━━━━━━━━━\u001b[0m\u001b[37m\u001b[0m \u001b[1m26s\u001b[0m 5ms/step - loss: 0.0262 - mae: 0.1230 - val_loss: 0.0158 - val_mae: 0.0876\n",
      "Epoch 18/30\n",
      "\u001b[1m5116/5116\u001b[0m \u001b[32m━━━━━━━━━━━━━━━━━━━━\u001b[0m\u001b[37m\u001b[0m \u001b[1m26s\u001b[0m 5ms/step - loss: 0.0263 - mae: 0.1231 - val_loss: 0.0158 - val_mae: 0.0877\n",
      "Epoch 19/30\n",
      "\u001b[1m5116/5116\u001b[0m \u001b[32m━━━━━━━━━━━━━━━━━━━━\u001b[0m\u001b[37m\u001b[0m \u001b[1m26s\u001b[0m 5ms/step - loss: 0.0264 - mae: 0.1232 - val_loss: 0.0159 - val_mae: 0.0882\n",
      "Epoch 20/30\n",
      "\u001b[1m5116/5116\u001b[0m \u001b[32m━━━━━━━━━━━━━━━━━━━━\u001b[0m\u001b[37m\u001b[0m \u001b[1m26s\u001b[0m 5ms/step - loss: 0.0260 - mae: 0.1223 - val_loss: 0.0157 - val_mae: 0.0870\n",
      "Epoch 21/30\n",
      "\u001b[1m5116/5116\u001b[0m \u001b[32m━━━━━━━━━━━━━━━━━━━━\u001b[0m\u001b[37m\u001b[0m \u001b[1m26s\u001b[0m 5ms/step - loss: 0.0262 - mae: 0.1228 - val_loss: 0.0155 - val_mae: 0.0861\n",
      "Epoch 22/30\n",
      "\u001b[1m5116/5116\u001b[0m \u001b[32m━━━━━━━━━━━━━━━━━━━━\u001b[0m\u001b[37m\u001b[0m \u001b[1m26s\u001b[0m 5ms/step - loss: 0.0259 - mae: 0.1219 - val_loss: 0.0159 - val_mae: 0.0874\n",
      "Epoch 23/30\n",
      "\u001b[1m5116/5116\u001b[0m \u001b[32m━━━━━━━━━━━━━━━━━━━━\u001b[0m\u001b[37m\u001b[0m \u001b[1m27s\u001b[0m 5ms/step - loss: 0.0261 - mae: 0.1223 - val_loss: 0.0159 - val_mae: 0.0877\n",
      "Epoch 24/30\n",
      "\u001b[1m5116/5116\u001b[0m \u001b[32m━━━━━━━━━━━━━━━━━━━━\u001b[0m\u001b[37m\u001b[0m \u001b[1m26s\u001b[0m 5ms/step - loss: 0.0262 - mae: 0.1225 - val_loss: 0.0158 - val_mae: 0.0875\n",
      "Epoch 25/30\n",
      "\u001b[1m5116/5116\u001b[0m \u001b[32m━━━━━━━━━━━━━━━━━━━━\u001b[0m\u001b[37m\u001b[0m \u001b[1m26s\u001b[0m 5ms/step - loss: 0.0257 - mae: 0.1215 - val_loss: 0.0156 - val_mae: 0.0861\n",
      "Epoch 26/30\n",
      "\u001b[1m5116/5116\u001b[0m \u001b[32m━━━━━━━━━━━━━━━━━━━━\u001b[0m\u001b[37m\u001b[0m \u001b[1m26s\u001b[0m 5ms/step - loss: 0.0258 - mae: 0.1215 - val_loss: 0.0156 - val_mae: 0.0863\n",
      "Epoch 27/30\n",
      "\u001b[1m5116/5116\u001b[0m \u001b[32m━━━━━━━━━━━━━━━━━━━━\u001b[0m\u001b[37m\u001b[0m \u001b[1m26s\u001b[0m 5ms/step - loss: 0.0258 - mae: 0.1213 - val_loss: 0.0155 - val_mae: 0.0858\n",
      "Epoch 28/30\n",
      "\u001b[1m5116/5116\u001b[0m \u001b[32m━━━━━━━━━━━━━━━━━━━━\u001b[0m\u001b[37m\u001b[0m \u001b[1m27s\u001b[0m 5ms/step - loss: 0.0257 - mae: 0.1213 - val_loss: 0.0155 - val_mae: 0.0858\n",
      "Epoch 29/30\n",
      "\u001b[1m5116/5116\u001b[0m \u001b[32m━━━━━━━━━━━━━━━━━━━━\u001b[0m\u001b[37m\u001b[0m \u001b[1m26s\u001b[0m 5ms/step - loss: 0.0258 - mae: 0.1212 - val_loss: 0.0157 - val_mae: 0.0869\n",
      "Epoch 30/30\n",
      "\u001b[1m5116/5116\u001b[0m \u001b[32m━━━━━━━━━━━━━━━━━━━━\u001b[0m\u001b[37m\u001b[0m \u001b[1m27s\u001b[0m 5ms/step - loss: 0.0258 - mae: 0.1212 - val_loss: 0.0158 - val_mae: 0.0865\n"
     ]
    }
   ],
   "source": [
    "# Compile model\n",
    "optimizer = tf.keras.optimizers.Adam(learning_rate=0.0001, clipnorm=1.0)\n",
    "model.compile(loss='mse', optimizer=optimizer, metrics=['mae'])\n",
    "\n",
    "# Train model\n",
    "history = model.fit(X_train, y_train, epochs=30, batch_size=16, validation_data=(X_test, y_test))\n"
   ]
  },
  {
   "cell_type": "markdown",
   "metadata": {},
   "source": [
    "#### Evaluate Model"
   ]
  },
  {
   "cell_type": "code",
   "execution_count": 194,
   "metadata": {},
   "outputs": [
    {
     "name": "stdout",
     "output_type": "stream",
     "text": [
      "\u001b[1m579/579\u001b[0m \u001b[32m━━━━━━━━━━━━━━━━━━━━\u001b[0m\u001b[37m\u001b[0m \u001b[1m1s\u001b[0m 1ms/step - loss: 0.0156 - mae: 0.0860\n",
      "Test MAE: 0.09\n",
      "Test Loss: 0.02\n"
     ]
    }
   ],
   "source": [
    "# Evaluate model\n",
    "loss, mae = model.evaluate(X_test, y_test)\n",
    "print(f\"Test MAE: {mae:.2f}\")\n",
    "print(f\"Test Loss: {loss:.2f}\")"
   ]
  },
  {
   "cell_type": "markdown",
   "metadata": {},
   "source": [
    "#### Visualize Result"
   ]
  },
  {
   "cell_type": "code",
   "execution_count": 193,
   "metadata": {},
   "outputs": [
    {
     "data": {
      "image/png": "[encoded data removed]",
      "text/plain": [
       "<Figure size 800x500 with 1 Axes>"
      ]
     },
     "metadata": {},
     "output_type": "display_data"
    }
   ],
   "source": [
    "## visualize the model\n",
    "# Plot training & validation loss\n",
    "plt.figure(figsize=(8,5))\n",
    "plt.plot(history.history['loss'], label='Training Loss')\n",
    "plt.plot(history.history['val_loss'], label='Validation Loss')\n",
    "plt.xlabel('Epochs')\n",
    "plt.ylabel('Loss (MSE)')\n",
    "plt.title('Training and Validation Loss')\n",
    "plt.legend()\n",
    "plt.show()"
   ]
  },
  {
   "cell_type": "markdown",
   "metadata": {},
   "source": [
    "#### Save prediction for Visualization"
   ]
  },
  {
   "cell_type": "code",
   "execution_count": 195,
   "metadata": {},
   "outputs": [
    {
     "name": "stdout",
     "output_type": "stream",
     "text": [
      "\u001b[1m579/579\u001b[0m \u001b[32m━━━━━━━━━━━━━━━━━━━━\u001b[0m\u001b[37m\u001b[0m \u001b[1m1s\u001b[0m 2ms/step\n",
      "Predictions saved successfully.\n"
     ]
    }
   ],
   "source": [
    "# Predict movement variability progression\n",
    "y_pred = model.predict(X_test)\n",
    "\n",
    "# Save predictions into the dataset\n",
    "y_pred_df = pd.DataFrame(y_pred, columns=[f'Predicted_{col}' for col in target])\n",
    "df.reset_index(drop=True, inplace=True)\n",
    "y_pred_df.reset_index(drop=True, inplace=True)\n",
    "df = pd.concat([df, y_pred_df], axis=1)\n",
    "\n",
    "# Save the updated dataset with predictions\n",
    "df.to_csv(\"../processed-data/movement_variability_pred.csv\", index=False)\n",
    "\n",
    "print(\"Predictions saved successfully.\")"
   ]
  }
 ],
 "metadata": {
  "kernelspec": {
   "display_name": "Python 3",
   "language": "python",
   "name": "python3"
  },
  "language_info": {
   "codemirror_mode": {
    "name": "ipython",
    "version": 3
   },
   "file_extension": ".py",
   "mimetype": "text/x-python",
   "name": "python",
   "nbconvert_exporter": "python",
   "pygments_lexer": "ipython3",
   "version": "3.11.9"
  }
 },
 "nbformat": 4,
 "nbformat_minor": 2
}
