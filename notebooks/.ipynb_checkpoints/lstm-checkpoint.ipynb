{
 "cells": [
  {
   "cell_type": "markdown",
   "metadata": {},
   "source": [
    "### LSTM-based Time-Series Model\n",
    "- Predict future sensor readings in patients with parkinsons disease"
   ]
  },
  {
   "cell_type": "code",
   "execution_count": 202,
   "metadata": {},
   "outputs": [],
   "source": [
    "import numpy as np\n",
    "import pandas as pd\n",
    "import tensorflow as tf\n",
    "from tensorflow.keras.models import Sequential\n",
    "from tensorflow.keras.layers import LSTM, Dense, Dropout, Bidirectional, BatchNormalization\n",
    "from sklearn.model_selection import train_test_split\n",
    "from sklearn.preprocessing import LabelEncoder, MinMaxScaler\n",
    "import matplotlib.pyplot as plt\n",
    "# warning ignore\n",
    "import warnings\n",
    "warnings.filterwarnings('ignore')"
   ]
  },
  {
   "cell_type": "markdown",
   "metadata": {},
   "source": [
    "##### Load dataset"
   ]
  },
  {
   "cell_type": "code",
   "execution_count": 203,
   "metadata": {},
   "outputs": [],
   "source": [
    "\n",
    "df = pd.read_csv(\"../processed-data/cleaned-parkinsons-data.csv\")\n"
   ]
  },
  {
   "cell_type": "markdown",
   "metadata": {},
   "source": [
    "#### Encode categorical variables"
   ]
  },
  {
   "cell_type": "code",
   "execution_count": 204,
   "metadata": {},
   "outputs": [],
   "source": [
    "\n",
    "label_encoders = {}\n",
    "for col in ['Task']:\n",
    "    label_encoders[col] = LabelEncoder()\n",
    "    df[col] = label_encoders[col].fit_transform(df[col])\n",
    "\n",
    "# Map DeviceLocation to numerical values\n",
    "df[\"Device_Location\"] = df[\"Device_Location\"].map({\"RightWrist\": 0, \"LeftWrist\": 1})\n"
   ]
  },
  {
   "cell_type": "markdown",
   "metadata": {},
   "source": [
    "#### Define Input and Target Features"
   ]
  },
  {
   "cell_type": "code",
   "execution_count": 205,
   "metadata": {},
   "outputs": [],
   "source": [
    "\n",
    "# Define input features (past movement + metadata) and target (future movement)\n",
    "features = ['Accel_X', 'Accel_Y', 'Accel_Z', 'Gyro_X', 'Gyro_Y', 'Gyro_Z', 'Time', 'Condition']\n",
    "target = ['Accel_X', 'Accel_Y', 'Accel_Z', 'Gyro_X', 'Gyro_Y', 'Gyro_Z']  # Predict future movement\n"
   ]
  },
  {
   "cell_type": "markdown",
   "metadata": {},
   "source": [
    "#### Scale Features and Segment Data"
   ]
  },
  {
   "cell_type": "code",
   "execution_count": 206,
   "metadata": {},
   "outputs": [],
   "source": [
    "# Sort data by Patient ID and time\n",
    "df = df.sort_values(by=['Patient_id'])\n",
    "\n",
    "# initialize lists to store segmented data\n",
    "train_data_list = []\n",
    "test_data_list = []\n",
    "\n",
    "# Split and normalize per patient to prevent data leakage\n",
    "scaler = MinMaxScaler()\n",
    "\n",
    "for patient_id, patient_df in df.groupby('Patient_id'):\n",
    "    split_index = round(int(len(patient_df) * 0.8))  # 80% train, 20% test\n",
    "    \n",
    "    train_patient = patient_df.iloc[:split_index]\n",
    "    test_patient = patient_df.iloc[split_index:]\n",
    "\n",
    "    # Normalize per patient\n",
    "    train_patient[features] = scaler.fit_transform(train_patient[features])\n",
    "    test_patient[features] = scaler.transform(test_patient[features])\n",
    "\n",
    "    train_data_list.append(train_patient)\n",
    "    test_data_list.append(test_patient)\n",
    "\n",
    "# Combine segmented data\n",
    "train_data = pd.concat(train_data_list)\n",
    "test_data = pd.concat(test_data_list)"
   ]
  },
  {
   "cell_type": "markdown",
   "metadata": {},
   "source": [
    "#### Create Data Sequence"
   ]
  },
  {
   "cell_type": "code",
   "execution_count": 207,
   "metadata": {},
   "outputs": [],
   "source": [
    "\n",
    "\n",
    "# Function to create sequences for each patient's data\n",
    "sequence_length = 10\n",
    "def create_sequences(data, sequence_length=sequence_length):\n",
    "    sequences = []\n",
    "    labels = []\n",
    "    \n",
    "    for patient_id, patient_df in data.groupby('Patient_id'):\n",
    "        patient_data = patient_df.reset_index(drop=True)  # Reset index for sequential slicing\n",
    "        \n",
    "        for i in range(len(patient_data) - sequence_length):\n",
    "            seq = patient_data.iloc[i:i+sequence_length][features].values\n",
    "            label = patient_data.iloc[i+sequence_length][target].values  # Predict next step\n",
    "            sequences.append(seq)\n",
    "            labels.append(label)\n",
    "    \n",
    "    return np.array(sequences), np.array(labels)\n",
    "\n",
    "# Create sequences\n",
    "X_train, y_train = create_sequences(train_data, sequence_length=sequence_length)\n",
    "X_test, y_test = create_sequences(test_data, sequence_length=sequence_length)\n",
    "\n"
   ]
  },
  {
   "cell_type": "markdown",
   "metadata": {},
   "source": [
    "#### Define LSTM Model"
   ]
  },
  {
   "cell_type": "code",
   "execution_count": 208,
   "metadata": {},
   "outputs": [],
   "source": [
    "# Define LSTM model\n",
    "\n",
    "model = Sequential([\n",
    "    Bidirectional(LSTM(64, return_sequences=True, input_shape=(sequence_length, len(features)))),\n",
    "    BatchNormalization(),\n",
    "    Dropout(0.5),\n",
    "\n",
    "    LSTM(32, return_sequences=True),\n",
    "    BatchNormalization(),\n",
    "    Dropout(0.5),\n",
    "\n",
    "    LSTM(16, return_sequences=False),\n",
    "    BatchNormalization(),\n",
    "    Dropout(0.5),\n",
    "\n",
    "    Dense(64, activation='relu'),\n",
    "    BatchNormalization(),\n",
    "    Dropout(0.5),\n",
    "\n",
    "    Dense(32, activation='relu'),\n",
    "    Dropout(0.5),\n",
    "\n",
    "    Dense(len(target), activation='linear')  # Predict movement values\n",
    "])"
   ]
  },
  {
   "cell_type": "code",
   "execution_count": 209,
   "metadata": {},
   "outputs": [
    {
     "name": "stdout",
     "output_type": "stream",
     "text": [
      "Epoch 1/30\n",
      "\u001b[1m6528/6528\u001b[0m \u001b[32m━━━━━━━━━━━━━━━━━━━━\u001b[0m\u001b[37m\u001b[0m \u001b[1m29s\u001b[0m 4ms/step - loss: 1.8364 - mae: 0.9259 - val_loss: 0.0669 - val_mae: 0.2101\n",
      "Epoch 2/30\n",
      "\u001b[1m6528/6528\u001b[0m \u001b[32m━━━━━━━━━━━━━━━━━━━━\u001b[0m\u001b[37m\u001b[0m \u001b[1m27s\u001b[0m 4ms/step - loss: 0.0559 - mae: 0.1863 - val_loss: 0.0302 - val_mae: 0.1293\n",
      "Epoch 3/30\n",
      "\u001b[1m6528/6528\u001b[0m \u001b[32m━━━━━━━━━━━━━━━━━━━━\u001b[0m\u001b[37m\u001b[0m \u001b[1m27s\u001b[0m 4ms/step - loss: 0.0356 - mae: 0.1470 - val_loss: 0.0230 - val_mae: 0.1081\n",
      "Epoch 4/30\n",
      "\u001b[1m6528/6528\u001b[0m \u001b[32m━━━━━━━━━━━━━━━━━━━━\u001b[0m\u001b[37m\u001b[0m \u001b[1m27s\u001b[0m 4ms/step - loss: 0.0319 - mae: 0.1379 - val_loss: 0.0201 - val_mae: 0.0995\n",
      "Epoch 5/30\n",
      "\u001b[1m6528/6528\u001b[0m \u001b[32m━━━━━━━━━━━━━━━━━━━━\u001b[0m\u001b[37m\u001b[0m \u001b[1m27s\u001b[0m 4ms/step - loss: 0.0305 - mae: 0.1342 - val_loss: 0.0188 - val_mae: 0.0950\n",
      "Epoch 6/30\n",
      "\u001b[1m6528/6528\u001b[0m \u001b[32m━━━━━━━━━━━━━━━━━━━━\u001b[0m\u001b[37m\u001b[0m \u001b[1m28s\u001b[0m 4ms/step - loss: 0.0295 - mae: 0.1317 - val_loss: 0.0187 - val_mae: 0.0959\n",
      "Epoch 7/30\n",
      "\u001b[1m6528/6528\u001b[0m \u001b[32m━━━━━━━━━━━━━━━━━━━━\u001b[0m\u001b[37m\u001b[0m \u001b[1m28s\u001b[0m 4ms/step - loss: 0.0289 - mae: 0.1303 - val_loss: 0.0179 - val_mae: 0.0928\n",
      "Epoch 8/30\n",
      "\u001b[1m6528/6528\u001b[0m \u001b[32m━━━━━━━━━━━━━━━━━━━━\u001b[0m\u001b[37m\u001b[0m \u001b[1m28s\u001b[0m 4ms/step - loss: 0.0287 - mae: 0.1295 - val_loss: 0.0177 - val_mae: 0.0927\n",
      "Epoch 9/30\n",
      "\u001b[1m6528/6528\u001b[0m \u001b[32m━━━━━━━━━━━━━━━━━━━━\u001b[0m\u001b[37m\u001b[0m \u001b[1m27s\u001b[0m 4ms/step - loss: 0.0283 - mae: 0.1283 - val_loss: 0.0177 - val_mae: 0.0935\n",
      "Epoch 10/30\n",
      "\u001b[1m6528/6528\u001b[0m \u001b[32m━━━━━━━━━━━━━━━━━━━━\u001b[0m\u001b[37m\u001b[0m \u001b[1m28s\u001b[0m 4ms/step - loss: 0.0281 - mae: 0.1280 - val_loss: 0.0176 - val_mae: 0.0927\n",
      "Epoch 11/30\n",
      "\u001b[1m6528/6528\u001b[0m \u001b[32m━━━━━━━━━━━━━━━━━━━━\u001b[0m\u001b[37m\u001b[0m \u001b[1m28s\u001b[0m 4ms/step - loss: 0.0278 - mae: 0.1275 - val_loss: 0.0173 - val_mae: 0.0915\n",
      "Epoch 12/30\n",
      "\u001b[1m6528/6528\u001b[0m \u001b[32m━━━━━━━━━━━━━━━━━━━━\u001b[0m\u001b[37m\u001b[0m \u001b[1m29s\u001b[0m 4ms/step - loss: 0.0280 - mae: 0.1275 - val_loss: 0.0171 - val_mae: 0.0906\n",
      "Epoch 13/30\n",
      "\u001b[1m6528/6528\u001b[0m \u001b[32m━━━━━━━━━━━━━━━━━━━━\u001b[0m\u001b[37m\u001b[0m \u001b[1m28s\u001b[0m 4ms/step - loss: 0.0276 - mae: 0.1266 - val_loss: 0.0177 - val_mae: 0.0934\n",
      "Epoch 14/30\n",
      "\u001b[1m6528/6528\u001b[0m \u001b[32m━━━━━━━━━━━━━━━━━━━━\u001b[0m\u001b[37m\u001b[0m \u001b[1m28s\u001b[0m 4ms/step - loss: 0.0275 - mae: 0.1263 - val_loss: 0.0171 - val_mae: 0.0900\n",
      "Epoch 15/30\n",
      "\u001b[1m6528/6528\u001b[0m \u001b[32m━━━━━━━━━━━━━━━━━━━━\u001b[0m\u001b[37m\u001b[0m \u001b[1m28s\u001b[0m 4ms/step - loss: 0.0273 - mae: 0.1258 - val_loss: 0.0173 - val_mae: 0.0913\n",
      "Epoch 16/30\n",
      "\u001b[1m6528/6528\u001b[0m \u001b[32m━━━━━━━━━━━━━━━━━━━━\u001b[0m\u001b[37m\u001b[0m \u001b[1m28s\u001b[0m 4ms/step - loss: 0.0275 - mae: 0.1260 - val_loss: 0.0173 - val_mae: 0.0914\n",
      "Epoch 17/30\n",
      "\u001b[1m6528/6528\u001b[0m \u001b[32m━━━━━━━━━━━━━━━━━━━━\u001b[0m\u001b[37m\u001b[0m \u001b[1m28s\u001b[0m 4ms/step - loss: 0.0272 - mae: 0.1254 - val_loss: 0.0170 - val_mae: 0.0902\n",
      "Epoch 18/30\n",
      "\u001b[1m6528/6528\u001b[0m \u001b[32m━━━━━━━━━━━━━━━━━━━━\u001b[0m\u001b[37m\u001b[0m \u001b[1m28s\u001b[0m 4ms/step - loss: 0.0272 - mae: 0.1253 - val_loss: 0.0170 - val_mae: 0.0899\n",
      "Epoch 19/30\n",
      "\u001b[1m6528/6528\u001b[0m \u001b[32m━━━━━━━━━━━━━━━━━━━━\u001b[0m\u001b[37m\u001b[0m \u001b[1m28s\u001b[0m 4ms/step - loss: 0.0269 - mae: 0.1248 - val_loss: 0.0174 - val_mae: 0.0920\n",
      "Epoch 20/30\n",
      "\u001b[1m6528/6528\u001b[0m \u001b[32m━━━━━━━━━━━━━━━━━━━━\u001b[0m\u001b[37m\u001b[0m \u001b[1m28s\u001b[0m 4ms/step - loss: 0.0268 - mae: 0.1242 - val_loss: 0.0173 - val_mae: 0.0912\n",
      "Epoch 21/30\n",
      "\u001b[1m6528/6528\u001b[0m \u001b[32m━━━━━━━━━━━━━━━━━━━━\u001b[0m\u001b[37m\u001b[0m \u001b[1m28s\u001b[0m 4ms/step - loss: 0.0269 - mae: 0.1243 - val_loss: 0.0175 - val_mae: 0.0918\n",
      "Epoch 22/30\n",
      "\u001b[1m6528/6528\u001b[0m \u001b[32m━━━━━━━━━━━━━━━━━━━━\u001b[0m\u001b[37m\u001b[0m \u001b[1m28s\u001b[0m 4ms/step - loss: 0.0268 - mae: 0.1242 - val_loss: 0.0172 - val_mae: 0.0904\n",
      "Epoch 23/30\n",
      "\u001b[1m6528/6528\u001b[0m \u001b[32m━━━━━━━━━━━━━━━━━━━━\u001b[0m\u001b[37m\u001b[0m \u001b[1m28s\u001b[0m 4ms/step - loss: 0.0267 - mae: 0.1239 - val_loss: 0.0172 - val_mae: 0.0907\n",
      "Epoch 24/30\n",
      "\u001b[1m6528/6528\u001b[0m \u001b[32m━━━━━━━━━━━━━━━━━━━━\u001b[0m\u001b[37m\u001b[0m \u001b[1m28s\u001b[0m 4ms/step - loss: 0.0268 - mae: 0.1240 - val_loss: 0.0173 - val_mae: 0.0915\n",
      "Epoch 25/30\n",
      "\u001b[1m6528/6528\u001b[0m \u001b[32m━━━━━━━━━━━━━━━━━━━━\u001b[0m\u001b[37m\u001b[0m \u001b[1m28s\u001b[0m 4ms/step - loss: 0.0265 - mae: 0.1233 - val_loss: 0.0175 - val_mae: 0.0920\n",
      "Epoch 26/30\n",
      "\u001b[1m6528/6528\u001b[0m \u001b[32m━━━━━━━━━━━━━━━━━━━━\u001b[0m\u001b[37m\u001b[0m \u001b[1m28s\u001b[0m 4ms/step - loss: 0.0266 - mae: 0.1235 - val_loss: 0.0173 - val_mae: 0.0909\n",
      "Epoch 27/30\n",
      "\u001b[1m6528/6528\u001b[0m \u001b[32m━━━━━━━━━━━━━━━━━━━━\u001b[0m\u001b[37m\u001b[0m \u001b[1m29s\u001b[0m 4ms/step - loss: 0.0267 - mae: 0.1235 - val_loss: 0.0173 - val_mae: 0.0909\n",
      "Epoch 28/30\n",
      "\u001b[1m6528/6528\u001b[0m \u001b[32m━━━━━━━━━━━━━━━━━━━━\u001b[0m\u001b[37m\u001b[0m \u001b[1m28s\u001b[0m 4ms/step - loss: 0.0266 - mae: 0.1233 - val_loss: 0.0171 - val_mae: 0.0900\n",
      "Epoch 29/30\n",
      "\u001b[1m6528/6528\u001b[0m \u001b[32m━━━━━━━━━━━━━━━━━━━━\u001b[0m\u001b[37m\u001b[0m \u001b[1m28s\u001b[0m 4ms/step - loss: 0.0264 - mae: 0.1229 - val_loss: 0.0172 - val_mae: 0.0903\n",
      "Epoch 30/30\n",
      "\u001b[1m6528/6528\u001b[0m \u001b[32m━━━━━━━━━━━━━━━━━━━━\u001b[0m\u001b[37m\u001b[0m \u001b[1m28s\u001b[0m 4ms/step - loss: 0.0265 - mae: 0.1230 - val_loss: 0.0172 - val_mae: 0.0904\n"
     ]
    }
   ],
   "source": [
    "# Compile model\n",
    "optimizer = tf.keras.optimizers.Adam(learning_rate=0.0001, clipnorm=1.0)\n",
    "model.compile(loss='mse', optimizer=optimizer, metrics=['mae'])\n",
    "\n",
    "# Train model\n",
    "history = model.fit(X_train, y_train, epochs=30, batch_size=16, validation_data=(X_test, y_test))\n"
   ]
  },
  {
   "cell_type": "markdown",
   "metadata": {},
   "source": [
    "#### Evaluate Model"
   ]
  },
  {
   "cell_type": "code",
   "execution_count": 210,
   "metadata": {},
   "outputs": [
    {
     "name": "stdout",
     "output_type": "stream",
     "text": [
      "\u001b[1m738/738\u001b[0m \u001b[32m━━━━━━━━━━━━━━━━━━━━\u001b[0m\u001b[37m\u001b[0m \u001b[1m1s\u001b[0m 1ms/step - loss: 0.0176 - mae: 0.0919\n",
      "Test MAE: 0.09\n",
      "Test Loss: 0.02\n"
     ]
    }
   ],
   "source": [
    "# Evaluate model\n",
    "loss, mae = model.evaluate(X_test, y_test)\n",
    "print(f\"Test MAE: {mae:.2f}\")\n",
    "print(f\"Test Loss: {loss:.2f}\")"
   ]
  },
  {
   "cell_type": "markdown",
   "metadata": {},
   "source": [
    "#### Visualize Result"
   ]
  },
  {
   "cell_type": "code",
   "execution_count": 211,
   "metadata": {},
   "outputs": [
    {
     "data": {
      "image/png": "[encoded data removed]",
      "text/plain": [
       "<Figure size 800x500 with 1 Axes>"
      ]
     },
     "metadata": {},
     "output_type": "display_data"
    }
   ],
   "source": [
    "## visualize the model\n",
    "# Plot training & validation loss\n",
    "plt.figure(figsize=(8,5))\n",
    "plt.plot(history.history['loss'], label='Training Loss')\n",
    "plt.plot(history.history['val_loss'], label='Validation Loss')\n",
    "plt.xlabel('Epochs')\n",
    "plt.ylabel('Loss (MSE)')\n",
    "plt.title('Training and Validation Loss')\n",
    "plt.legend()\n",
    "plt.show()"
   ]
  },
  {
   "cell_type": "markdown",
   "metadata": {},
   "source": [
    "#### Save prediction for Visualization"
   ]
  },
  {
   "cell_type": "code",
   "execution_count": 212,
   "metadata": {},
   "outputs": [
    {
     "name": "stdout",
     "output_type": "stream",
     "text": [
      "\u001b[1m738/738\u001b[0m \u001b[32m━━━━━━━━━━━━━━━━━━━━\u001b[0m\u001b[37m\u001b[0m \u001b[1m1s\u001b[0m 1ms/step\n",
      "Comparison dataset saved successfully.\n"
     ]
    }
   ],
   "source": [
    "# Predict movement variability progression\n",
    "y_pred = model.predict(X_test)\n",
    "# Convert X_test to a DataFrame for comparison\n",
    "X_test_df = pd.DataFrame(X_test[:, -1, :], columns=[f'{col}' for col in features])\n",
    "X_test_df.reset_index(drop=True, inplace=True)\n",
    "\n",
    "# Convert predictions to DataFrame\n",
    "y_pred_df = pd.DataFrame(y_pred, columns=[f'Predicted_{col}' for col in target])\n",
    "\n",
    "# Combine input data with predictions\n",
    "comparison_df = pd.concat([X_test_df, y_pred_df], axis=1)\n",
    "# sort by time\n",
    "comparison_df = comparison_df.sort_values(by=['Time'])\n",
    "\n",
    "# Save the updated dataset with input vs. predicted data\n",
    "comparison_df.to_csv(\"../processed-data/movement_variability_pred.csv\", index=False)\n",
    "\n",
    "print(\"Comparison dataset saved successfully.\")\n"
   ]
  }
 ],
 "metadata": {
  "kernelspec": {
   "display_name": "Python 3",
   "language": "python",
   "name": "python3"
  },
  "language_info": {
   "codemirror_mode": {
    "name": "ipython",
    "version": 3
   },
   "file_extension": ".py",
   "mimetype": "text/x-python",
   "name": "python",
   "nbconvert_exporter": "python",
   "pygments_lexer": "ipython3",
   "version": "3.11.9"
  }
 },
 "nbformat": 4,
 "nbformat_minor": 2
}
