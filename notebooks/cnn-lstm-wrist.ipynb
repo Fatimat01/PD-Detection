{
 "cells": [
  {
   "cell_type": "markdown",
   "metadata": {},
   "source": [
    "### Hybrid CNN-LSTM Model combines:\n",
    "- CNN (Convolutional Neural Network): Extracts spatial patterns from time-series sensor data.\n",
    "- LSTM (Long Short-Term Memory): Captures temporal dependencies for movement analysis.\n",
    "- Model is used to predict task ttype"
   ]
  },
  {
   "cell_type": "code",
   "execution_count": 305,
   "metadata": {},
   "outputs": [],
   "source": [
    "import tensorflow as tf\n",
    "from tensorflow.keras.models import Sequential\n",
    "from tensorflow.keras.layers import Conv1D, MaxPooling1D, LSTM, Dense, Dropout, Flatten, BatchNormalization\n",
    "from tensorflow.keras.utils import to_categorical\n",
    "from tensorflow.keras.optimizers import Adam\n",
    "from tensorflow.keras.regularizers import l2\n",
    "from sklearn.model_selection import train_test_split\n",
    "from sklearn.preprocessing import LabelEncoder\n",
    "from sklearn.preprocessing import MinMaxScaler, StandardScaler\n",
    "from sklearn.metrics import accuracy_score\n",
    "from sklearn.metrics import confusion_matrix, classification_report\n",
    "from imblearn.over_sampling import RandomOverSampler\n",
    "from sklearn.utils.class_weight import compute_class_weight\n",
    "from tensorflow.keras import layers, models, Input, Model, regularizers\n",
    "import pandas as pd\n",
    "import numpy as np\n",
    "import matplotlib.pyplot as plt\n",
    "import seaborn as sns\n",
    "import keras # used to build CNN"
   ]
  },
  {
   "cell_type": "code",
   "execution_count": 306,
   "metadata": {},
   "outputs": [],
   "source": [
    "# Load extracted features\n",
    "df = pd.read_csv(\"../processed-data/cleaned-parkinsons-data.csv\")"
   ]
  },
  {
   "cell_type": "markdown",
   "metadata": {},
   "source": [
    "#### Scale Features"
   ]
  },
  {
   "cell_type": "code",
   "execution_count": null,
   "metadata": {},
   "outputs": [],
   "source": [
    "\n",
    "# define and scale sensor columns\n",
    "sensor_columns = [\"Accel_X\", \"Accel_Y\", \"Accel_Z\", \"Gyro_X\", \"Gyro_Y\", \"Gyro_Z\"]\n",
    "# apply MinMaxScaler (-1 to 1) to sensor data\n",
    "scaler_sensor = MinMaxScaler(feature_range=(-1, 1))\n",
    "df[sensor_columns] = scaler_sensor.fit_transform(df[sensor_columns])\n",
    "\n",
    "# define and scale demographic columns\n",
    "demographic_col = [\"Age_At_Diagnosis\", \"Height\", \"Weight\", \"Gender\", \"Handedness\"]\n",
    "# apply standard scaler to demographic data\n",
    "scaler_demographic = StandardScaler()\n",
    "df[demographic_col] = scaler_demographic.fit_transform(df[demographic_col])\n",
    "\n",
    "# gather input features and target\n",
    "df = df[[\"Patient_id\", \"Task\", \"Device_Location\"] + sensor_columns + demographic_col + [\"Normalized_Time\", \"Condition\"]]\n",
    "\n"
   ]
  },
  {
   "cell_type": "markdown",
   "metadata": {},
   "source": [
    "#### Split data into training and testing sets \n",
    "- Ensure strict splitting to prevent data leakage and maintin sequence\n",
    "- No patient data should appear in both train and test data"
   ]
  },
  {
   "cell_type": "code",
   "execution_count": 308,
   "metadata": {},
   "outputs": [],
   "source": [
    "# split data into training and testing\n",
    "# Get unique patients sorted (ensuring order is preserved)\n",
    "unique_patients = sorted(df[\"Patient_id\"].unique())  # Sorting ensures consistency\n",
    "\n",
    "# Manually split: First 80% for training, last 20% for testing\n",
    "split_idx = round(int(len(unique_patients) * 0.8))\n",
    "train_patients = unique_patients[:split_idx]  # First 80% patients\n",
    "test_patients = unique_patients[split_idx:]  # Last 20% patients\n",
    "\n",
    "# Assign data to train and test sets\n",
    "df_train = df[df[\"Patient_id\"].isin(train_patients)].copy()\n",
    "df_test = df[df[\"Patient_id\"].isin(test_patients)].copy()"
   ]
  },
  {
   "cell_type": "code",
   "execution_count": 309,
   "metadata": {},
   "outputs": [],
   "source": [
    "# Verify strict separation (no overlap)\n",
    "assert set(df_train[\"Patient_id\"]).isdisjoint(set(df_test[\"Patient_id\"])), \"Patient IDs overlap!\""
   ]
  },
  {
   "cell_type": "code",
   "execution_count": 310,
   "metadata": {},
   "outputs": [],
   "source": [
    "# Ensure each dataset is sorted by Patient, Task, and Normalized Time\n",
    "df_train = df_train.sort_values(by=[\"Patient_id\", \"Task\", \"Normalized_Time\"])\n",
    "df_test = df_test.sort_values(by=[\"Patient_id\", \"Task\", \"Normalized_Time\"])"
   ]
  },
  {
   "cell_type": "markdown",
   "metadata": {},
   "source": [
    "#### Segment Time-Series Data for Dual-Input by device location (left and right wrist)"
   ]
  },
  {
   "cell_type": "code",
   "execution_count": 311,
   "metadata": {},
   "outputs": [],
   "source": [
    "# Time steps per sequence\n",
    "window_size = 50  \n",
    "step_size = 10    # Step size for sliding window"
   ]
  },
  {
   "cell_type": "code",
   "execution_count": 312,
   "metadata": {},
   "outputs": [],
   "source": [
    "# define function to segment time series data\n",
    "def segment_time_series_dual(df, window_size, step_size):\n",
    "    \"\"\"\n",
    "    Segments the dataset into overlapping windows for CNN-LSTM training.\n",
    "    Returns separate X_left, X_right, and y arrays.\n",
    "    \"\"\"\n",
    "    X_left, X_right, y = [], [], []\n",
    "    unique_patients = df[\"Patient_id\"].unique()\n",
    "\n",
    "    for patient in unique_patients:\n",
    "        patient_df = df[df[\"Patient_id\"] == patient].copy()\n",
    "\n",
    "        # Select left and right wrist data\n",
    "        left_df = patient_df[patient_df[\"Device_Location\"] == \"LeftWrist\"]\n",
    "        right_df = patient_df[patient_df[\"Device_Location\"] == \"RightWrist\"]\n",
    "\n",
    "        if len(left_df) == 0 or len(right_df) == 0:\n",
    "            continue  # Skip if missing wrist data for this patient\n",
    "\n",
    "        left_features = left_df[sensor_columns + demographic_col + [\"Normalized_Time\"]].values\n",
    "        right_features = right_df[sensor_columns + demographic_col + [\"Normalized_Time\"]].values\n",
    "        labels = left_df[\"Condition\"].values  # Use left wrist labels\n",
    "\n",
    "        # Create overlapping windows\n",
    "        for i in range(0, min(len(left_features), len(right_features)) - window_size, step_size):\n",
    "            X_left.append(left_features[i:i+window_size])\n",
    "            X_right.append(right_features[i:i+window_size])\n",
    "            y.append(labels[i + window_size - 1])  # Assign label from last time step\n",
    "\n",
    "    return np.array(X_left), np.array(X_right), np.array(y)"
   ]
  },
  {
   "cell_type": "code",
   "execution_count": 313,
   "metadata": {},
   "outputs": [
    {
     "name": "stdout",
     "output_type": "stream",
     "text": [
      "X_train_left shape: (3926, 50, 12)\n",
      "X_train_right shape: (3926, 50, 12)\n",
      "y_train shape: (3926,)\n"
     ]
    }
   ],
   "source": [
    "# Segment data into sequences\n",
    "X_train_left, X_train_right, y_train = segment_time_series_dual(df_train, window_size, step_size)\n",
    "X_test_left, X_test_right, y_test = segment_time_series_dual(df_test, window_size, step_size)\n",
    "\n",
    "# print the shape of the data\n",
    "# Ensure both X_train_left and X_train_right have the same shape\n",
    "print(\"X_train_left shape:\", X_train_left.shape)\n",
    "print(\"X_train_right shape:\", X_train_right.shape)\n",
    "print(\"y_train shape:\", y_train.shape)\n",
    "\n",
    "assert X_train_left.shape == X_train_right.shape, \"❌ Left & Right input shapes do not match!\"\n",
    "assert X_test_left.shape == X_test_right.shape, \"❌ Left & Right test shapes do not match!\"\n",
    "# save the split data\n"
   ]
  },
  {
   "cell_type": "markdown",
   "metadata": {},
   "source": [
    "#### Build Dual-Branch CNN-LSTM Model"
   ]
  },
  {
   "cell_type": "code",
   "execution_count": 315,
   "metadata": {},
   "outputs": [],
   "source": [
    "def build_dual_cnn_lstm_model(input_shape):\n",
    "    left_input = Input(shape=input_shape, name=\"Left_Wrist_Input\")\n",
    "    right_input = Input(shape=input_shape, name=\"Right_Wrist_Input\")\n",
    "\n",
    "    # CNN-LSTM for Left Wrist\n",
    "    left_branch = layers.Conv1D(32, kernel_size=3, activation='relu',\n",
    "                                kernel_regularizer=regularizers.l2(0.001))(left_input)\n",
    "    left_branch = layers.MaxPooling1D(pool_size=2)(left_branch)\n",
    "    left_branch = layers.Dropout(0.5)(left_branch)\n",
    "    left_branch = layers.LSTM(32, return_sequences=True, dropout=0.5, recurrent_dropout=0.2)(left_branch)\n",
    "    left_branch = layers.LSTM(16, dropout=0.5, recurrent_dropout=0.2)(left_branch)\n",
    "\n",
    "    # CNN-LSTM for Right Wrist\n",
    "    right_branch = layers.Conv1D(32, kernel_size=3, activation='relu',\n",
    "                                 kernel_regularizer=regularizers.l2(0.001))(right_input)\n",
    "    right_branch = layers.MaxPooling1D(pool_size=2)(right_branch)\n",
    "    right_branch = layers.Dropout(0.5)(right_branch)\n",
    "    right_branch = layers.LSTM(32, return_sequences=True, dropout=0.5, recurrent_dropout=0.2)(right_branch)\n",
    "    right_branch = layers.LSTM(16, dropout=0.5, recurrent_dropout=0.2)(right_branch)\n",
    "\n",
    "    # Merge both branches\n",
    "    merged = layers.Concatenate()([left_branch, right_branch])\n",
    "    merged = layers.Dense(32, activation='relu', kernel_regularizer=regularizers.l2(0.001))(merged)\n",
    "    merged = layers.Dropout(0.5)(merged)\n",
    "    output = layers.Dense(1, activation='sigmoid')(merged)\n",
    "\n",
    "    model = Model(inputs=[left_input, right_input], outputs=output)\n",
    "    model.compile(optimizer=tf.keras.optimizers.Adam(learning_rate=0.0005),\n",
    "                  loss=tf.keras.losses.BinaryCrossentropy(label_smoothing=0.1), metrics=['accuracy'])\n",
    "    \n",
    "    return model"
   ]
  },
  {
   "cell_type": "code",
   "execution_count": 316,
   "metadata": {},
   "outputs": [],
   "source": [
    "\n",
    "# Define input shape\n",
    "input_shape = (50, X_train_left.shape[-1])  # 50 time steps, feature count from X_train_left\n",
    "\n",
    "# Build and compile model\n",
    "model = build_dual_cnn_lstm_model(input_shape)"
   ]
  },
  {
   "cell_type": "markdown",
   "metadata": {},
   "source": [
    "### Compute class weight\n",
    "- Address class imbalance"
   ]
  },
  {
   "cell_type": "code",
   "execution_count": null,
   "metadata": {},
   "outputs": [],
   "source": []
  },
  {
   "cell_type": "code",
   "execution_count": 318,
   "metadata": {},
   "outputs": [
    {
     "name": "stdout",
     "output_type": "stream",
     "text": [
      "Class distribution after oversampling: {0: 3110, 1: 3110}\n"
     ]
    }
   ],
   "source": [
    "# Combine left and right wrist features for oversampling\n",
    "num_samples, time_steps, num_features = X_train_left.shape\n",
    "\n",
    "# Flatten time-series data for oversampling (Convert to 2D: (samples, time_steps * features))\n",
    "X_train_left_flat = X_train_left.reshape(num_samples, -1)  # Shape: (samples, time_steps * features)\n",
    "X_train_right_flat = X_train_right.reshape(num_samples, -1)  # Shape: (samples, time_steps * features)\n",
    "\n",
    "# Stack Left & Right wrist data horizontally\n",
    "X_train_combined = np.hstack((X_train_left_flat, X_train_right_flat))  # Shape: (samples, features_combined)\n",
    "\n",
    "# Apply Oversampling on 2D data\n",
    "ros = RandomOverSampler(random_state=42)\n",
    "X_train_balanced_flat, y_train_balanced = ros.fit_resample(X_train_combined, y_train)\n",
    "\n",
    "# Reshape back into 3D format (samples, time_steps, features)\n",
    "split_index = num_features * time_steps  # Number of original left wrist features\n",
    "X_train_left_balanced = X_train_balanced_flat[:, :split_index].reshape(-1, time_steps, num_features)\n",
    "X_train_right_balanced = X_train_balanced_flat[:, split_index:].reshape(-1, time_steps, num_features)\n",
    "\n",
    "\n",
    "# Print new class distribution\n",
    "unique, counts = np.unique(y_train_balanced, return_counts=True)\n",
    "print(\"Class distribution after oversampling:\", dict(zip(unique, counts)))\n"
   ]
  },
  {
   "cell_type": "code",
   "execution_count": 319,
   "metadata": {},
   "outputs": [
    {
     "name": "stdout",
     "output_type": "stream",
     "text": [
      "Epoch 1/50\n"
     ]
    },
    {
     "name": "stderr",
     "output_type": "stream",
     "text": [
      "/Library/Frameworks/Python.framework/Versions/3.11/lib/python3.11/site-packages/keras/src/models/functional.py:225: UserWarning: The structure of `inputs` doesn't match the expected structure: ['Left_Wrist_Input', 'Right_Wrist_Input']. Received: the structure of inputs=('*', '*')\n",
      "  warnings.warn(\n"
     ]
    },
    {
     "name": "stdout",
     "output_type": "stream",
     "text": [
      "\u001b[1m195/195\u001b[0m \u001b[32m━━━━━━━━━━━━━━━━━━━━\u001b[0m\u001b[37m\u001b[0m \u001b[1m4s\u001b[0m 12ms/step - accuracy: 0.5519 - loss: 0.7472 - val_accuracy: 0.6290 - val_loss: 0.7245\n",
      "Epoch 2/50\n",
      "\u001b[1m195/195\u001b[0m \u001b[32m━━━━━━━━━━━━━━━━━━━━\u001b[0m\u001b[37m\u001b[0m \u001b[1m3s\u001b[0m 14ms/step - accuracy: 0.6766 - loss: 0.6879 - val_accuracy: 0.6332 - val_loss: 0.6900\n",
      "Epoch 3/50\n",
      "\u001b[1m195/195\u001b[0m \u001b[32m━━━━━━━━━━━━━━━━━━━━\u001b[0m\u001b[37m\u001b[0m \u001b[1m3s\u001b[0m 15ms/step - accuracy: 0.7103 - loss: 0.6608 - val_accuracy: 0.6549 - val_loss: 0.6670\n",
      "Epoch 4/50\n",
      "\u001b[1m195/195\u001b[0m \u001b[32m━━━━━━━━━━━━━━━━━━━━\u001b[0m\u001b[37m\u001b[0m \u001b[1m3s\u001b[0m 13ms/step - accuracy: 0.7021 - loss: 0.6533 - val_accuracy: 0.6528 - val_loss: 0.6427\n",
      "Epoch 5/50\n",
      "\u001b[1m195/195\u001b[0m \u001b[32m━━━━━━━━━━━━━━━━━━━━\u001b[0m\u001b[37m\u001b[0m \u001b[1m3s\u001b[0m 14ms/step - accuracy: 0.7206 - loss: 0.6366 - val_accuracy: 0.7358 - val_loss: 0.6217\n",
      "Epoch 6/50\n",
      "\u001b[1m195/195\u001b[0m \u001b[32m━━━━━━━━━━━━━━━━━━━━\u001b[0m\u001b[37m\u001b[0m \u001b[1m2s\u001b[0m 13ms/step - accuracy: 0.7230 - loss: 0.6197 - val_accuracy: 0.7855 - val_loss: 0.6135\n",
      "Epoch 7/50\n",
      "\u001b[1m195/195\u001b[0m \u001b[32m━━━━━━━━━━━━━━━━━━━━\u001b[0m\u001b[37m\u001b[0m \u001b[1m3s\u001b[0m 13ms/step - accuracy: 0.7365 - loss: 0.6079 - val_accuracy: 0.7451 - val_loss: 0.6165\n",
      "Epoch 8/50\n",
      "\u001b[1m195/195\u001b[0m \u001b[32m━━━━━━━━━━━━━━━━━━━━\u001b[0m\u001b[37m\u001b[0m \u001b[1m3s\u001b[0m 16ms/step - accuracy: 0.7319 - loss: 0.6060 - val_accuracy: 0.7337 - val_loss: 0.5958\n",
      "Epoch 9/50\n",
      "\u001b[1m195/195\u001b[0m \u001b[32m━━━━━━━━━━━━━━━━━━━━\u001b[0m\u001b[37m\u001b[0m \u001b[1m3s\u001b[0m 13ms/step - accuracy: 0.7425 - loss: 0.5927 - val_accuracy: 0.7109 - val_loss: 0.6122\n",
      "Epoch 10/50\n",
      "\u001b[1m195/195\u001b[0m \u001b[32m━━━━━━━━━━━━━━━━━━━━\u001b[0m\u001b[37m\u001b[0m \u001b[1m3s\u001b[0m 13ms/step - accuracy: 0.7472 - loss: 0.5835 - val_accuracy: 0.7233 - val_loss: 0.6259\n",
      "Epoch 11/50\n",
      "\u001b[1m195/195\u001b[0m \u001b[32m━━━━━━━━━━━━━━━━━━━━\u001b[0m\u001b[37m\u001b[0m \u001b[1m3s\u001b[0m 14ms/step - accuracy: 0.7625 - loss: 0.5671 - val_accuracy: 0.7316 - val_loss: 0.6034\n",
      "Epoch 12/50\n",
      "\u001b[1m195/195\u001b[0m \u001b[32m━━━━━━━━━━━━━━━━━━━━\u001b[0m\u001b[37m\u001b[0m \u001b[1m3s\u001b[0m 15ms/step - accuracy: 0.7568 - loss: 0.5609 - val_accuracy: 0.6591 - val_loss: 0.6395\n",
      "Epoch 13/50\n",
      "\u001b[1m195/195\u001b[0m \u001b[32m━━━━━━━━━━━━━━━━━━━━\u001b[0m\u001b[37m\u001b[0m \u001b[1m3s\u001b[0m 13ms/step - accuracy: 0.7723 - loss: 0.5592 - val_accuracy: 0.7109 - val_loss: 0.6156\n",
      "Epoch 14/50\n",
      "\u001b[1m195/195\u001b[0m \u001b[32m━━━━━━━━━━━━━━━━━━━━\u001b[0m\u001b[37m\u001b[0m \u001b[1m3s\u001b[0m 13ms/step - accuracy: 0.7621 - loss: 0.5521 - val_accuracy: 0.6891 - val_loss: 0.6419\n",
      "Epoch 15/50\n",
      "\u001b[1m195/195\u001b[0m \u001b[32m━━━━━━━━━━━━━━━━━━━━\u001b[0m\u001b[37m\u001b[0m \u001b[1m2s\u001b[0m 13ms/step - accuracy: 0.7870 - loss: 0.5341 - val_accuracy: 0.7088 - val_loss: 0.6129\n",
      "Epoch 16/50\n",
      "\u001b[1m195/195\u001b[0m \u001b[32m━━━━━━━━━━━━━━━━━━━━\u001b[0m\u001b[37m\u001b[0m \u001b[1m3s\u001b[0m 15ms/step - accuracy: 0.7878 - loss: 0.5321 - val_accuracy: 0.6891 - val_loss: 0.6213\n",
      "Epoch 17/50\n",
      "\u001b[1m195/195\u001b[0m \u001b[32m━━━━━━━━━━━━━━━━━━━━\u001b[0m\u001b[37m\u001b[0m \u001b[1m3s\u001b[0m 17ms/step - accuracy: 0.7838 - loss: 0.5324 - val_accuracy: 0.6808 - val_loss: 0.6281\n",
      "Epoch 18/50\n",
      "\u001b[1m195/195\u001b[0m \u001b[32m━━━━━━━━━━━━━━━━━━━━\u001b[0m\u001b[37m\u001b[0m \u001b[1m3s\u001b[0m 13ms/step - accuracy: 0.7835 - loss: 0.5328 - val_accuracy: 0.7212 - val_loss: 0.6161\n",
      "Epoch 19/50\n",
      "\u001b[1m195/195\u001b[0m \u001b[32m━━━━━━━━━━━━━━━━━━━━\u001b[0m\u001b[37m\u001b[0m \u001b[1m3s\u001b[0m 13ms/step - accuracy: 0.8028 - loss: 0.5198 - val_accuracy: 0.6870 - val_loss: 0.6312\n",
      "Epoch 20/50\n",
      "\u001b[1m195/195\u001b[0m \u001b[32m━━━━━━━━━━━━━━━━━━━━\u001b[0m\u001b[37m\u001b[0m \u001b[1m3s\u001b[0m 13ms/step - accuracy: 0.8016 - loss: 0.5174 - val_accuracy: 0.7223 - val_loss: 0.6018\n",
      "Epoch 21/50\n",
      "\u001b[1m195/195\u001b[0m \u001b[32m━━━━━━━━━━━━━━━━━━━━\u001b[0m\u001b[37m\u001b[0m \u001b[1m3s\u001b[0m 13ms/step - accuracy: 0.8212 - loss: 0.5007 - val_accuracy: 0.7181 - val_loss: 0.6211\n",
      "Epoch 22/50\n",
      "\u001b[1m195/195\u001b[0m \u001b[32m━━━━━━━━━━━━━━━━━━━━\u001b[0m\u001b[37m\u001b[0m \u001b[1m3s\u001b[0m 14ms/step - accuracy: 0.8178 - loss: 0.4999 - val_accuracy: 0.7658 - val_loss: 0.5839\n",
      "Epoch 23/50\n",
      "\u001b[1m195/195\u001b[0m \u001b[32m━━━━━━━━━━━━━━━━━━━━\u001b[0m\u001b[37m\u001b[0m \u001b[1m3s\u001b[0m 13ms/step - accuracy: 0.8188 - loss: 0.4969 - val_accuracy: 0.7150 - val_loss: 0.6346\n",
      "Epoch 24/50\n",
      "\u001b[1m195/195\u001b[0m \u001b[32m━━━━━━━━━━━━━━━━━━━━\u001b[0m\u001b[37m\u001b[0m \u001b[1m3s\u001b[0m 13ms/step - accuracy: 0.8220 - loss: 0.4958 - val_accuracy: 0.7492 - val_loss: 0.5986\n",
      "Epoch 25/50\n",
      "\u001b[1m195/195\u001b[0m \u001b[32m━━━━━━━━━━━━━━━━━━━━\u001b[0m\u001b[37m\u001b[0m \u001b[1m3s\u001b[0m 13ms/step - accuracy: 0.8287 - loss: 0.4865 - val_accuracy: 0.7472 - val_loss: 0.5950\n",
      "Epoch 26/50\n",
      "\u001b[1m195/195\u001b[0m \u001b[32m━━━━━━━━━━━━━━━━━━━━\u001b[0m\u001b[37m\u001b[0m \u001b[1m2s\u001b[0m 12ms/step - accuracy: 0.8284 - loss: 0.4909 - val_accuracy: 0.7150 - val_loss: 0.6244\n",
      "Epoch 27/50\n",
      "\u001b[1m195/195\u001b[0m \u001b[32m━━━━━━━━━━━━━━━━━━━━\u001b[0m\u001b[37m\u001b[0m \u001b[1m3s\u001b[0m 13ms/step - accuracy: 0.8270 - loss: 0.4886 - val_accuracy: 0.7430 - val_loss: 0.5958\n",
      "Epoch 28/50\n",
      "\u001b[1m195/195\u001b[0m \u001b[32m━━━━━━━━━━━━━━━━━━━━\u001b[0m\u001b[37m\u001b[0m \u001b[1m2s\u001b[0m 13ms/step - accuracy: 0.8407 - loss: 0.4813 - val_accuracy: 0.7140 - val_loss: 0.6210\n",
      "Epoch 29/50\n",
      "\u001b[1m195/195\u001b[0m \u001b[32m━━━━━━━━━━━━━━━━━━━━\u001b[0m\u001b[37m\u001b[0m \u001b[1m2s\u001b[0m 13ms/step - accuracy: 0.8416 - loss: 0.4698 - val_accuracy: 0.7472 - val_loss: 0.6032\n",
      "Epoch 30/50\n",
      "\u001b[1m195/195\u001b[0m \u001b[32m━━━━━━━━━━━━━━━━━━━━\u001b[0m\u001b[37m\u001b[0m \u001b[1m3s\u001b[0m 13ms/step - accuracy: 0.8413 - loss: 0.4762 - val_accuracy: 0.7554 - val_loss: 0.5833\n",
      "Epoch 31/50\n",
      "\u001b[1m195/195\u001b[0m \u001b[32m━━━━━━━━━━━━━━━━━━━━\u001b[0m\u001b[37m\u001b[0m \u001b[1m3s\u001b[0m 15ms/step - accuracy: 0.8470 - loss: 0.4633 - val_accuracy: 0.7399 - val_loss: 0.5882\n",
      "Epoch 32/50\n",
      "\u001b[1m195/195\u001b[0m \u001b[32m━━━━━━━━━━━━━━━━━━━━\u001b[0m\u001b[37m\u001b[0m \u001b[1m2s\u001b[0m 13ms/step - accuracy: 0.8414 - loss: 0.4694 - val_accuracy: 0.7689 - val_loss: 0.5701\n",
      "Epoch 33/50\n",
      "\u001b[1m195/195\u001b[0m \u001b[32m━━━━━━━━━━━━━━━━━━━━\u001b[0m\u001b[37m\u001b[0m \u001b[1m3s\u001b[0m 13ms/step - accuracy: 0.8482 - loss: 0.4613 - val_accuracy: 0.7751 - val_loss: 0.5698\n",
      "Epoch 34/50\n",
      "\u001b[1m195/195\u001b[0m \u001b[32m━━━━━━━━━━━━━━━━━━━━\u001b[0m\u001b[37m\u001b[0m \u001b[1m3s\u001b[0m 13ms/step - accuracy: 0.8451 - loss: 0.4645 - val_accuracy: 0.7699 - val_loss: 0.5667\n",
      "Epoch 35/50\n",
      "\u001b[1m195/195\u001b[0m \u001b[32m━━━━━━━━━━━━━━━━━━━━\u001b[0m\u001b[37m\u001b[0m \u001b[1m3s\u001b[0m 13ms/step - accuracy: 0.8455 - loss: 0.4578 - val_accuracy: 0.7461 - val_loss: 0.5877\n",
      "Epoch 36/50\n",
      "\u001b[1m195/195\u001b[0m \u001b[32m━━━━━━━━━━━━━━━━━━━━\u001b[0m\u001b[37m\u001b[0m \u001b[1m2s\u001b[0m 13ms/step - accuracy: 0.8517 - loss: 0.4511 - val_accuracy: 0.7378 - val_loss: 0.6093\n",
      "Epoch 37/50\n",
      "\u001b[1m195/195\u001b[0m \u001b[32m━━━━━━━━━━━━━━━━━━━━\u001b[0m\u001b[37m\u001b[0m \u001b[1m3s\u001b[0m 14ms/step - accuracy: 0.8546 - loss: 0.4525 - val_accuracy: 0.7513 - val_loss: 0.5949\n",
      "Epoch 38/50\n",
      "\u001b[1m195/195\u001b[0m \u001b[32m━━━━━━━━━━━━━━━━━━━━\u001b[0m\u001b[37m\u001b[0m \u001b[1m3s\u001b[0m 13ms/step - accuracy: 0.8582 - loss: 0.4565 - val_accuracy: 0.7606 - val_loss: 0.5786\n",
      "Epoch 39/50\n",
      "\u001b[1m195/195\u001b[0m \u001b[32m━━━━━━━━━━━━━━━━━━━━\u001b[0m\u001b[37m\u001b[0m \u001b[1m2s\u001b[0m 12ms/step - accuracy: 0.8453 - loss: 0.4528 - val_accuracy: 0.7762 - val_loss: 0.5812\n",
      "Epoch 40/50\n",
      "\u001b[1m195/195\u001b[0m \u001b[32m━━━━━━━━━━━━━━━━━━━━\u001b[0m\u001b[37m\u001b[0m \u001b[1m2s\u001b[0m 13ms/step - accuracy: 0.8645 - loss: 0.4471 - val_accuracy: 0.7544 - val_loss: 0.5681\n",
      "Epoch 41/50\n",
      "\u001b[1m195/195\u001b[0m \u001b[32m━━━━━━━━━━━━━━━━━━━━\u001b[0m\u001b[37m\u001b[0m \u001b[1m2s\u001b[0m 12ms/step - accuracy: 0.8603 - loss: 0.4459 - val_accuracy: 0.7668 - val_loss: 0.5854\n",
      "Epoch 42/50\n",
      "\u001b[1m195/195\u001b[0m \u001b[32m━━━━━━━━━━━━━━━━━━━━\u001b[0m\u001b[37m\u001b[0m \u001b[1m2s\u001b[0m 12ms/step - accuracy: 0.8481 - loss: 0.4530 - val_accuracy: 0.7565 - val_loss: 0.5818\n",
      "Epoch 43/50\n",
      "\u001b[1m195/195\u001b[0m \u001b[32m━━━━━━━━━━━━━━━━━━━━\u001b[0m\u001b[37m\u001b[0m \u001b[1m3s\u001b[0m 14ms/step - accuracy: 0.8544 - loss: 0.4535 - val_accuracy: 0.7710 - val_loss: 0.5750\n",
      "Epoch 44/50\n",
      "\u001b[1m195/195\u001b[0m \u001b[32m━━━━━━━━━━━━━━━━━━━━\u001b[0m\u001b[37m\u001b[0m \u001b[1m3s\u001b[0m 14ms/step - accuracy: 0.8722 - loss: 0.4363 - val_accuracy: 0.7658 - val_loss: 0.5940\n",
      "Epoch 45/50\n",
      "\u001b[1m195/195\u001b[0m \u001b[32m━━━━━━━━━━━━━━━━━━━━\u001b[0m\u001b[37m\u001b[0m \u001b[1m3s\u001b[0m 14ms/step - accuracy: 0.8738 - loss: 0.4345 - val_accuracy: 0.7606 - val_loss: 0.5714\n",
      "Epoch 46/50\n",
      "\u001b[1m195/195\u001b[0m \u001b[32m━━━━━━━━━━━━━━━━━━━━\u001b[0m\u001b[37m\u001b[0m \u001b[1m3s\u001b[0m 13ms/step - accuracy: 0.8752 - loss: 0.4286 - val_accuracy: 0.7451 - val_loss: 0.5790\n",
      "Epoch 47/50\n",
      "\u001b[1m195/195\u001b[0m \u001b[32m━━━━━━━━━━━━━━━━━━━━\u001b[0m\u001b[37m\u001b[0m \u001b[1m2s\u001b[0m 13ms/step - accuracy: 0.8646 - loss: 0.4428 - val_accuracy: 0.7699 - val_loss: 0.5869\n",
      "Epoch 48/50\n",
      "\u001b[1m195/195\u001b[0m \u001b[32m━━━━━━━━━━━━━━━━━━━━\u001b[0m\u001b[37m\u001b[0m \u001b[1m2s\u001b[0m 13ms/step - accuracy: 0.8704 - loss: 0.4305 - val_accuracy: 0.7575 - val_loss: 0.5963\n",
      "Epoch 49/50\n",
      "\u001b[1m195/195\u001b[0m \u001b[32m━━━━━━━━━━━━━━━━━━━━\u001b[0m\u001b[37m\u001b[0m \u001b[1m3s\u001b[0m 14ms/step - accuracy: 0.8645 - loss: 0.4338 - val_accuracy: 0.7720 - val_loss: 0.5691\n",
      "Epoch 50/50\n",
      "\u001b[1m195/195\u001b[0m \u001b[32m━━━━━━━━━━━━━━━━━━━━\u001b[0m\u001b[37m\u001b[0m \u001b[1m2s\u001b[0m 12ms/step - accuracy: 0.8663 - loss: 0.4397 - val_accuracy: 0.7658 - val_loss: 0.6011\n"
     ]
    }
   ],
   "source": [
    "\n",
    "history = model.fit(\n",
    "    [X_train_left_balanced, X_train_right_balanced], y_train_balanced,\n",
    "    epochs=50, batch_size=32,\n",
    "    validation_data=([X_test_left, X_test_right], y_test)  # Test set remains untouched\n",
    "\n",
    ")"
   ]
  },
  {
   "cell_type": "code",
   "execution_count": 320,
   "metadata": {},
   "outputs": [
    {
     "name": "stdout",
     "output_type": "stream",
     "text": [
      "Model training complete. Saved as 'cnn_lstm_model.keras'.\n"
     ]
    }
   ],
   "source": [
    "# save Model\n",
    "model.save(\"../models/cnn_lstm_model.keras\")\n",
    "print(\"Model training complete. Saved as 'cnn_lstm_model.keras'.\")"
   ]
  },
  {
   "cell_type": "code",
   "execution_count": 326,
   "metadata": {},
   "outputs": [
    {
     "name": "stdout",
     "output_type": "stream",
     "text": [
      "\u001b[1m31/31\u001b[0m \u001b[32m━━━━━━━━━━━━━━━━━━━━\u001b[0m\u001b[37m\u001b[0m \u001b[1m0s\u001b[0m 3ms/step - accuracy: 0.8033 - loss: 0.5158\n",
      "Test Accuracy: 76.58%\n"
     ]
    }
   ],
   "source": [
    "# Evaluate performance on test set\n",
    "# ===========================\n",
    "# 7. Model Evaluation\n",
    "# ===========================\n",
    "test_loss, test_accuracy = model.evaluate([X_test_left, X_test_right], y_test)\n",
    "#print test accuracy in percentage\n",
    "\n",
    "print(f\"Test Accuracy: {test_accuracy*100:.2f}%\")\n",
    "\n"
   ]
  },
  {
   "cell_type": "code",
   "execution_count": 327,
   "metadata": {},
   "outputs": [
    {
     "name": "stdout",
     "output_type": "stream",
     "text": [
      "\u001b[1m31/31\u001b[0m \u001b[32m━━━━━━━━━━━━━━━━━━━━\u001b[0m\u001b[37m\u001b[0m \u001b[1m0s\u001b[0m 3ms/step\n"
     ]
    },
    {
     "data": {
      "image/png": "[encoded data removed]",
      "text/plain": [
       "<Figure size 640x480 with 2 Axes>"
      ]
     },
     "metadata": {},
     "output_type": "display_data"
    },
    {
     "name": "stdout",
     "output_type": "stream",
     "text": [
      "              precision    recall  f1-score   support\n",
      "\n",
      "     Healthy       0.50      0.56      0.53       227\n",
      " Parkinson's       0.86      0.83      0.84       738\n",
      "\n",
      "    accuracy                           0.77       965\n",
      "   macro avg       0.68      0.69      0.69       965\n",
      "weighted avg       0.78      0.77      0.77       965\n",
      "\n"
     ]
    }
   ],
   "source": [
    "# Confusion Matrix\n",
    "y_pred = (model.predict([X_test_left, X_test_right]) > 0.5).astype(int)\n",
    "cm = confusion_matrix(y_test, y_pred)\n",
    "sns.heatmap(cm, annot=True, fmt=\"d\", cmap=\"Blues\")\n",
    "plt.show()\n",
    "\n",
    "# Classification Report\n",
    "print(classification_report(y_test, y_pred, target_names=[\"Healthy\", \"Parkinson's\"]))"
   ]
  },
  {
   "cell_type": "markdown",
   "metadata": {},
   "source": [
    "### Plot Training Accuracy & Loss Curves"
   ]
  },
  {
   "cell_type": "code",
   "execution_count": 328,
   "metadata": {},
   "outputs": [],
   "source": [
    " # Extract loss & accuracy values\n",
    "train_loss = history.history['loss']\n",
    "val_loss = history.history['val_loss']\n",
    "train_acc = history.history['accuracy']\n",
    "val_acc = history.history['val_accuracy']\n",
    "\n",
    "epochs = range(1, len(train_loss) + 1)"
   ]
  },
  {
   "cell_type": "code",
   "execution_count": 329,
   "metadata": {},
   "outputs": [
    {
     "data": {
      "image/png": "[encoded data removed]",
      "text/plain": [
       "<Figure size 1200x500 with 1 Axes>"
      ]
     },
     "metadata": {},
     "output_type": "display_data"
    }
   ],
   "source": [
    "# Plot Loss Curve\n",
    "plt.figure(figsize=(12, 5))\n",
    "    \n",
    "plt.subplot(1, 2, 1)\n",
    "plt.plot(epochs, train_loss, 'b-', label='Training Loss')\n",
    "plt.plot(epochs, val_loss, 'r-', label='Validation Loss')\n",
    "plt.xlabel('Epochs')\n",
    "plt.ylabel('Loss')\n",
    "plt.title('Training & Validation Loss')\n",
    "plt.legend()\n",
    "plt.tight_layout()\n",
    "plt.show()"
   ]
  }
 ],
 "metadata": {
  "kernelspec": {
   "display_name": "Python 3",
   "language": "python",
   "name": "python3"
  },
  "language_info": {
   "codemirror_mode": {
    "name": "ipython",
    "version": 3
   },
   "file_extension": ".py",
   "mimetype": "text/x-python",
   "name": "python",
   "nbconvert_exporter": "python",
   "pygments_lexer": "ipython3",
   "version": "3.11.9"
  }
 },
 "nbformat": 4,
 "nbformat_minor": 2
}
